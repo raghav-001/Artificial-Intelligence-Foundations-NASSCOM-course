{
 "cells": [
  {
   "cell_type": "code",
   "execution_count": 1,
   "metadata": {},
   "outputs": [],
   "source": [
    "import pymongo\n",
    "from pymongo import MongoClient\n",
    "client = MongoClient('mongodb://localhost:27017/')"
   ]
  },
  {
   "cell_type": "code",
   "execution_count": 2,
   "metadata": {},
   "outputs": [],
   "source": [
    "#This will create a Collection/Database called department if it doesn't already exist\n",
    "\n",
    "coll_department = client['department']\n",
    "\n",
    "department = coll_department.department"
   ]
  },
  {
   "cell_type": "code",
   "execution_count": 3,
   "metadata": {},
   "outputs": [
    {
     "data": {
      "text/plain": [
       "<pymongo.results.InsertManyResult at 0x2b152632bc0>"
      ]
     },
     "execution_count": 3,
     "metadata": {},
     "output_type": "execute_result"
    }
   ],
   "source": [
    "#Inserts department names and heads data\n",
    "department.insert_many([{\"dep_name\": \"IT\", \"DepartmentHead\":\"Jason\"},\n",
    "                            {\"dep_name\": \"Admin\", \"DepartmentHead\":\"Nial\"},\n",
    "                            {\"dep_name\": \"Accounts\", \"DepartmentHead\":\"Harris\"}])"
   ]
  },
  {
   "cell_type": "markdown",
   "metadata": {},
   "source": [
    "##In order to create the data we will pandas dataframe. A Data frame is a two-dimensional data structure, i.e., data is aligned in a tabular fashion in rows and columns. Pandas DataFrame consists of three principal components, the data, rows, and columns."
   ]
  },
  {
   "cell_type": "code",
   "execution_count": 4,
   "metadata": {},
   "outputs": [],
   "source": [
    "#This will create a Collection/Database called employees if it doesn't already exist\n",
    "import pandas as pd\n",
    "\n",
    "db = client['employees']\n",
    "\n",
    "df_employees = pd.DataFrame(list(db.employees.find()))\n"
   ]
  },
  {
   "cell_type": "code",
   "execution_count": 5,
   "metadata": {},
   "outputs": [
    {
     "data": {
      "text/html": [
       "<div>\n",
       "<style scoped>\n",
       "    .dataframe tbody tr th:only-of-type {\n",
       "        vertical-align: middle;\n",
       "    }\n",
       "\n",
       "    .dataframe tbody tr th {\n",
       "        vertical-align: top;\n",
       "    }\n",
       "\n",
       "    .dataframe thead th {\n",
       "        text-align: right;\n",
       "    }\n",
       "</style>\n",
       "<table border=\"1\" class=\"dataframe\">\n",
       "  <thead>\n",
       "    <tr style=\"text-align: right;\">\n",
       "      <th></th>\n",
       "      <th>_id</th>\n",
       "      <th>name</th>\n",
       "      <th>Department</th>\n",
       "      <th>Salary</th>\n",
       "    </tr>\n",
       "  </thead>\n",
       "  <tbody>\n",
       "    <tr>\n",
       "      <th>0</th>\n",
       "      <td>60ee97e6176167638660b0f3</td>\n",
       "      <td>Jessica</td>\n",
       "      <td>IT</td>\n",
       "      <td>6000</td>\n",
       "    </tr>\n",
       "    <tr>\n",
       "      <th>1</th>\n",
       "      <td>60ee97e6176167638660b0f4</td>\n",
       "      <td>Joseph</td>\n",
       "      <td>IT</td>\n",
       "      <td>7000</td>\n",
       "    </tr>\n",
       "    <tr>\n",
       "      <th>2</th>\n",
       "      <td>60ee97e6176167638660b0f5</td>\n",
       "      <td>Alex</td>\n",
       "      <td>Accounts</td>\n",
       "      <td>5000</td>\n",
       "    </tr>\n",
       "    <tr>\n",
       "      <th>3</th>\n",
       "      <td>60ee97e6176167638660b0f6</td>\n",
       "      <td>Julie</td>\n",
       "      <td>IT</td>\n",
       "      <td>3000</td>\n",
       "    </tr>\n",
       "    <tr>\n",
       "      <th>4</th>\n",
       "      <td>60ee97e6176167638660b0f7</td>\n",
       "      <td>James</td>\n",
       "      <td>Admin</td>\n",
       "      <td>8000</td>\n",
       "    </tr>\n",
       "  </tbody>\n",
       "</table>\n",
       "</div>"
      ],
      "text/plain": [
       "                        _id     name Department  Salary\n",
       "0  60ee97e6176167638660b0f3  Jessica         IT    6000\n",
       "1  60ee97e6176167638660b0f4   Joseph         IT    7000\n",
       "2  60ee97e6176167638660b0f5     Alex   Accounts    5000\n",
       "3  60ee97e6176167638660b0f6    Julie         IT    3000\n",
       "4  60ee97e6176167638660b0f7    James      Admin    8000"
      ]
     },
     "execution_count": 5,
     "metadata": {},
     "output_type": "execute_result"
    }
   ],
   "source": [
    "df_employees.head()"
   ]
  },
  {
   "cell_type": "code",
   "execution_count": 6,
   "metadata": {},
   "outputs": [],
   "source": [
    "df_department = pd.DataFrame(list(department.find()))"
   ]
  },
  {
   "cell_type": "code",
   "execution_count": 7,
   "metadata": {},
   "outputs": [
    {
     "data": {
      "text/html": [
       "<div>\n",
       "<style scoped>\n",
       "    .dataframe tbody tr th:only-of-type {\n",
       "        vertical-align: middle;\n",
       "    }\n",
       "\n",
       "    .dataframe tbody tr th {\n",
       "        vertical-align: top;\n",
       "    }\n",
       "\n",
       "    .dataframe thead th {\n",
       "        text-align: right;\n",
       "    }\n",
       "</style>\n",
       "<table border=\"1\" class=\"dataframe\">\n",
       "  <thead>\n",
       "    <tr style=\"text-align: right;\">\n",
       "      <th></th>\n",
       "      <th>_id</th>\n",
       "      <th>dep_name</th>\n",
       "      <th>DepartmentHead</th>\n",
       "    </tr>\n",
       "  </thead>\n",
       "  <tbody>\n",
       "    <tr>\n",
       "      <th>0</th>\n",
       "      <td>60ee9c4b256841cde70955d7</td>\n",
       "      <td>IT</td>\n",
       "      <td>Jason</td>\n",
       "    </tr>\n",
       "    <tr>\n",
       "      <th>1</th>\n",
       "      <td>60ee9c4b256841cde70955d8</td>\n",
       "      <td>Admin</td>\n",
       "      <td>Nial</td>\n",
       "    </tr>\n",
       "    <tr>\n",
       "      <th>2</th>\n",
       "      <td>60ee9c4b256841cde70955d9</td>\n",
       "      <td>Accounts</td>\n",
       "      <td>Harris</td>\n",
       "    </tr>\n",
       "  </tbody>\n",
       "</table>\n",
       "</div>"
      ],
      "text/plain": [
       "                        _id  dep_name DepartmentHead\n",
       "0  60ee9c4b256841cde70955d7        IT          Jason\n",
       "1  60ee9c4b256841cde70955d8     Admin           Nial\n",
       "2  60ee9c4b256841cde70955d9  Accounts         Harris"
      ]
     },
     "execution_count": 7,
     "metadata": {},
     "output_type": "execute_result"
    }
   ],
   "source": [
    "df_department.head()"
   ]
  },
  {
   "cell_type": "markdown",
   "metadata": {},
   "source": [
    "### Left Join: \n",
    "\n",
    "Left join uses only keys from left frame, similar to a SQL left outer join"
   ]
  },
  {
   "cell_type": "code",
   "execution_count": 8,
   "metadata": {},
   "outputs": [
    {
     "data": {
      "text/html": [
       "<div>\n",
       "<style scoped>\n",
       "    .dataframe tbody tr th:only-of-type {\n",
       "        vertical-align: middle;\n",
       "    }\n",
       "\n",
       "    .dataframe tbody tr th {\n",
       "        vertical-align: top;\n",
       "    }\n",
       "\n",
       "    .dataframe thead th {\n",
       "        text-align: right;\n",
       "    }\n",
       "</style>\n",
       "<table border=\"1\" class=\"dataframe\">\n",
       "  <thead>\n",
       "    <tr style=\"text-align: right;\">\n",
       "      <th></th>\n",
       "      <th>_id_x</th>\n",
       "      <th>name</th>\n",
       "      <th>Department</th>\n",
       "      <th>Salary</th>\n",
       "      <th>_id_y</th>\n",
       "      <th>dep_name</th>\n",
       "      <th>DepartmentHead</th>\n",
       "    </tr>\n",
       "  </thead>\n",
       "  <tbody>\n",
       "    <tr>\n",
       "      <th>0</th>\n",
       "      <td>60ee97e6176167638660b0f3</td>\n",
       "      <td>Jessica</td>\n",
       "      <td>IT</td>\n",
       "      <td>6000</td>\n",
       "      <td>60ee9c4b256841cde70955d7</td>\n",
       "      <td>IT</td>\n",
       "      <td>Jason</td>\n",
       "    </tr>\n",
       "    <tr>\n",
       "      <th>1</th>\n",
       "      <td>60ee97e6176167638660b0f4</td>\n",
       "      <td>Joseph</td>\n",
       "      <td>IT</td>\n",
       "      <td>7000</td>\n",
       "      <td>60ee9c4b256841cde70955d7</td>\n",
       "      <td>IT</td>\n",
       "      <td>Jason</td>\n",
       "    </tr>\n",
       "    <tr>\n",
       "      <th>2</th>\n",
       "      <td>60ee97e6176167638660b0f5</td>\n",
       "      <td>Alex</td>\n",
       "      <td>Accounts</td>\n",
       "      <td>5000</td>\n",
       "      <td>60ee9c4b256841cde70955d9</td>\n",
       "      <td>Accounts</td>\n",
       "      <td>Harris</td>\n",
       "    </tr>\n",
       "    <tr>\n",
       "      <th>3</th>\n",
       "      <td>60ee97e6176167638660b0f6</td>\n",
       "      <td>Julie</td>\n",
       "      <td>IT</td>\n",
       "      <td>3000</td>\n",
       "      <td>60ee9c4b256841cde70955d7</td>\n",
       "      <td>IT</td>\n",
       "      <td>Jason</td>\n",
       "    </tr>\n",
       "    <tr>\n",
       "      <th>4</th>\n",
       "      <td>60ee97e6176167638660b0f7</td>\n",
       "      <td>James</td>\n",
       "      <td>Admin</td>\n",
       "      <td>8000</td>\n",
       "      <td>60ee9c4b256841cde70955d8</td>\n",
       "      <td>Admin</td>\n",
       "      <td>Nial</td>\n",
       "    </tr>\n",
       "    <tr>\n",
       "      <th>5</th>\n",
       "      <td>60ee97e6176167638660b0f8</td>\n",
       "      <td>Jacob</td>\n",
       "      <td>Admin</td>\n",
       "      <td>9000</td>\n",
       "      <td>60ee9c4b256841cde70955d8</td>\n",
       "      <td>Admin</td>\n",
       "      <td>Nial</td>\n",
       "    </tr>\n",
       "    <tr>\n",
       "      <th>6</th>\n",
       "      <td>60ee97e6176167638660b0f9</td>\n",
       "      <td>Kevin</td>\n",
       "      <td>IT</td>\n",
       "      <td>6500</td>\n",
       "      <td>60ee9c4b256841cde70955d7</td>\n",
       "      <td>IT</td>\n",
       "      <td>Jason</td>\n",
       "    </tr>\n",
       "  </tbody>\n",
       "</table>\n",
       "</div>"
      ],
      "text/plain": [
       "                      _id_x     name Department  Salary  \\\n",
       "0  60ee97e6176167638660b0f3  Jessica         IT    6000   \n",
       "1  60ee97e6176167638660b0f4   Joseph         IT    7000   \n",
       "2  60ee97e6176167638660b0f5     Alex   Accounts    5000   \n",
       "3  60ee97e6176167638660b0f6    Julie         IT    3000   \n",
       "4  60ee97e6176167638660b0f7    James      Admin    8000   \n",
       "5  60ee97e6176167638660b0f8    Jacob      Admin    9000   \n",
       "6  60ee97e6176167638660b0f9    Kevin         IT    6500   \n",
       "\n",
       "                      _id_y  dep_name DepartmentHead  \n",
       "0  60ee9c4b256841cde70955d7        IT          Jason  \n",
       "1  60ee9c4b256841cde70955d7        IT          Jason  \n",
       "2  60ee9c4b256841cde70955d9  Accounts         Harris  \n",
       "3  60ee9c4b256841cde70955d7        IT          Jason  \n",
       "4  60ee9c4b256841cde70955d8     Admin           Nial  \n",
       "5  60ee9c4b256841cde70955d8     Admin           Nial  \n",
       "6  60ee9c4b256841cde70955d7        IT          Jason  "
      ]
     },
     "execution_count": 8,
     "metadata": {},
     "output_type": "execute_result"
    }
   ],
   "source": [
    "df_employees.merge(df_department,left_on=\"Department\",right_on=\"dep_name\",how=\"left\")"
   ]
  },
  {
   "cell_type": "markdown",
   "metadata": {},
   "source": [
    "### Inner Join: \n",
    "\n",
    "Use intersection of keys from both frames, similar to a SQL inner join; preserve the order of the left keys."
   ]
  },
  {
   "cell_type": "code",
   "execution_count": 9,
   "metadata": {},
   "outputs": [
    {
     "data": {
      "text/html": [
       "<div>\n",
       "<style scoped>\n",
       "    .dataframe tbody tr th:only-of-type {\n",
       "        vertical-align: middle;\n",
       "    }\n",
       "\n",
       "    .dataframe tbody tr th {\n",
       "        vertical-align: top;\n",
       "    }\n",
       "\n",
       "    .dataframe thead th {\n",
       "        text-align: right;\n",
       "    }\n",
       "</style>\n",
       "<table border=\"1\" class=\"dataframe\">\n",
       "  <thead>\n",
       "    <tr style=\"text-align: right;\">\n",
       "      <th></th>\n",
       "      <th>_id_x</th>\n",
       "      <th>name</th>\n",
       "      <th>Department</th>\n",
       "      <th>Salary</th>\n",
       "      <th>_id_y</th>\n",
       "      <th>dep_name</th>\n",
       "      <th>DepartmentHead</th>\n",
       "    </tr>\n",
       "  </thead>\n",
       "  <tbody>\n",
       "    <tr>\n",
       "      <th>0</th>\n",
       "      <td>60ee97e6176167638660b0f3</td>\n",
       "      <td>Jessica</td>\n",
       "      <td>IT</td>\n",
       "      <td>6000</td>\n",
       "      <td>60ee9c4b256841cde70955d7</td>\n",
       "      <td>IT</td>\n",
       "      <td>Jason</td>\n",
       "    </tr>\n",
       "    <tr>\n",
       "      <th>1</th>\n",
       "      <td>60ee97e6176167638660b0f4</td>\n",
       "      <td>Joseph</td>\n",
       "      <td>IT</td>\n",
       "      <td>7000</td>\n",
       "      <td>60ee9c4b256841cde70955d7</td>\n",
       "      <td>IT</td>\n",
       "      <td>Jason</td>\n",
       "    </tr>\n",
       "    <tr>\n",
       "      <th>2</th>\n",
       "      <td>60ee97e6176167638660b0f6</td>\n",
       "      <td>Julie</td>\n",
       "      <td>IT</td>\n",
       "      <td>3000</td>\n",
       "      <td>60ee9c4b256841cde70955d7</td>\n",
       "      <td>IT</td>\n",
       "      <td>Jason</td>\n",
       "    </tr>\n",
       "    <tr>\n",
       "      <th>3</th>\n",
       "      <td>60ee97e6176167638660b0f9</td>\n",
       "      <td>Kevin</td>\n",
       "      <td>IT</td>\n",
       "      <td>6500</td>\n",
       "      <td>60ee9c4b256841cde70955d7</td>\n",
       "      <td>IT</td>\n",
       "      <td>Jason</td>\n",
       "    </tr>\n",
       "    <tr>\n",
       "      <th>4</th>\n",
       "      <td>60ee97e6176167638660b0f5</td>\n",
       "      <td>Alex</td>\n",
       "      <td>Accounts</td>\n",
       "      <td>5000</td>\n",
       "      <td>60ee9c4b256841cde70955d9</td>\n",
       "      <td>Accounts</td>\n",
       "      <td>Harris</td>\n",
       "    </tr>\n",
       "    <tr>\n",
       "      <th>5</th>\n",
       "      <td>60ee97e6176167638660b0f7</td>\n",
       "      <td>James</td>\n",
       "      <td>Admin</td>\n",
       "      <td>8000</td>\n",
       "      <td>60ee9c4b256841cde70955d8</td>\n",
       "      <td>Admin</td>\n",
       "      <td>Nial</td>\n",
       "    </tr>\n",
       "    <tr>\n",
       "      <th>6</th>\n",
       "      <td>60ee97e6176167638660b0f8</td>\n",
       "      <td>Jacob</td>\n",
       "      <td>Admin</td>\n",
       "      <td>9000</td>\n",
       "      <td>60ee9c4b256841cde70955d8</td>\n",
       "      <td>Admin</td>\n",
       "      <td>Nial</td>\n",
       "    </tr>\n",
       "  </tbody>\n",
       "</table>\n",
       "</div>"
      ],
      "text/plain": [
       "                      _id_x     name Department  Salary  \\\n",
       "0  60ee97e6176167638660b0f3  Jessica         IT    6000   \n",
       "1  60ee97e6176167638660b0f4   Joseph         IT    7000   \n",
       "2  60ee97e6176167638660b0f6    Julie         IT    3000   \n",
       "3  60ee97e6176167638660b0f9    Kevin         IT    6500   \n",
       "4  60ee97e6176167638660b0f5     Alex   Accounts    5000   \n",
       "5  60ee97e6176167638660b0f7    James      Admin    8000   \n",
       "6  60ee97e6176167638660b0f8    Jacob      Admin    9000   \n",
       "\n",
       "                      _id_y  dep_name DepartmentHead  \n",
       "0  60ee9c4b256841cde70955d7        IT          Jason  \n",
       "1  60ee9c4b256841cde70955d7        IT          Jason  \n",
       "2  60ee9c4b256841cde70955d7        IT          Jason  \n",
       "3  60ee9c4b256841cde70955d7        IT          Jason  \n",
       "4  60ee9c4b256841cde70955d9  Accounts         Harris  \n",
       "5  60ee9c4b256841cde70955d8     Admin           Nial  \n",
       "6  60ee9c4b256841cde70955d8     Admin           Nial  "
      ]
     },
     "execution_count": 9,
     "metadata": {},
     "output_type": "execute_result"
    }
   ],
   "source": [
    "df_employees.merge(df_department,left_on=\"Department\",right_on=\"dep_name\",how=\"inner\")"
   ]
  },
  {
   "cell_type": "markdown",
   "metadata": {},
   "source": [
    "### To get the total number of records in the collection"
   ]
  },
  {
   "cell_type": "code",
   "execution_count": 10,
   "metadata": {},
   "outputs": [],
   "source": [
    "pipeline = [\n",
    "     {\"$group\": {\"_id\": None,\"Count\": {\"$sum\": 1}}}]\n",
    "grp_employees = db.employees.aggregate(pipeline)"
   ]
  },
  {
   "cell_type": "code",
   "execution_count": 11,
   "metadata": {},
   "outputs": [
    {
     "name": "stdout",
     "output_type": "stream",
     "text": [
      "{'_id': None, 'Count': 7}\n"
     ]
    }
   ],
   "source": [
    "for employee in grp_employees:\n",
    "  print(employee)"
   ]
  },
  {
   "cell_type": "markdown",
   "metadata": {},
   "source": [
    "### To group by department and get the total salary for each department"
   ]
  },
  {
   "cell_type": "code",
   "execution_count": 12,
   "metadata": {},
   "outputs": [],
   "source": [
    "pipeline = [\n",
    "     {\"$group\": {\"_id\": \"$Department\",\"Salary\": {\"$sum\": \"$Salary\"}}}]\n",
    "grp_employees = db.employees.aggregate(pipeline)"
   ]
  },
  {
   "cell_type": "code",
   "execution_count": 13,
   "metadata": {},
   "outputs": [
    {
     "name": "stdout",
     "output_type": "stream",
     "text": [
      "{'_id': 'Admin', 'Salary': 17000}\n",
      "{'_id': 'Accounts', 'Salary': 5000}\n",
      "{'_id': 'IT', 'Salary': 22500}\n"
     ]
    }
   ],
   "source": [
    "for employee in grp_employees:\n",
    "  print(employee)"
   ]
  },
  {
   "cell_type": "markdown",
   "metadata": {},
   "source": [
    "### To group by department and get the average salary for each department"
   ]
  },
  {
   "cell_type": "code",
   "execution_count": null,
   "metadata": {},
   "outputs": [],
   "source": [
    "pipeline = [\n",
    "     {\"$group\": {\"_id\": \"$Department\",\"Salary\": {\"$avg\": \"$Salary\"}}}]\n",
    "grp_employees = db.employees.aggregate(pipeline)\n"
   ]
  },
  {
   "cell_type": "code",
   "execution_count": 14,
   "metadata": {},
   "outputs": [],
   "source": [
    "for employee in grp_employees:\n",
    "  print(employee['_id'],\"\\t Average Salary \",employee['Salary'])"
   ]
  },
  {
   "cell_type": "markdown",
   "metadata": {},
   "source": [
    "### To get the employees with the lowest salary"
   ]
  },
  {
   "cell_type": "code",
   "execution_count": 15,
   "metadata": {},
   "outputs": [],
   "source": [
    "pipeline = [\n",
    "     {\"$group\": {\"_id\": None ,\"Minimum Salary\": {\"$min\": \"$Salary\"}}}]\n",
    "grp_employees = db.employees.aggregate(pipeline)\n"
   ]
  },
  {
   "cell_type": "code",
   "execution_count": 16,
   "metadata": {},
   "outputs": [
    {
     "name": "stdout",
     "output_type": "stream",
     "text": [
      "Name  Julie \n",
      "Salary  3000\n"
     ]
    }
   ],
   "source": [
    "for employee in grp_employees:\n",
    "    for spec_emp in db.employees.find({\"Salary\":employee['Minimum Salary']}):\n",
    "        print(\"Name \",spec_emp['name'],\"\\nSalary \",spec_emp['Salary'])"
   ]
  }
 ],
 "metadata": {
  "kernelspec": {
   "display_name": "Python 3",
   "language": "python",
   "name": "python3"
  },
  "language_info": {
   "codemirror_mode": {
    "name": "ipython",
    "version": 3
   },
   "file_extension": ".py",
   "mimetype": "text/x-python",
   "name": "python",
   "nbconvert_exporter": "python",
   "pygments_lexer": "ipython3",
   "version": "3.8.5"
  }
 },
 "nbformat": 4,
 "nbformat_minor": 4
}
