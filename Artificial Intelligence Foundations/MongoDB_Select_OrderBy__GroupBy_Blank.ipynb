{
 "cells": [
  {
   "cell_type": "code",
   "execution_count": 1,
   "metadata": {},
   "outputs": [],
   "source": [
    "#Imports MongoDB into Python if not already imported\n",
    "import pymongo\n",
    "from pymongo import MongoClient\n",
    "client = MongoClient('mongodb://localhost:27017/')"
   ]
  },
  {
   "cell_type": "code",
   "execution_count": 2,
   "metadata": {},
   "outputs": [],
   "source": [
    "#This will create a Collection/Database called books if it doesn't already exist\n",
    "db = client['books']"
   ]
  },
  {
   "cell_type": "code",
   "execution_count": 3,
   "metadata": {},
   "outputs": [],
   "source": [
    "#Names the collection\n",
    "books = db.books"
   ]
  },
  {
   "cell_type": "code",
   "execution_count": 4,
   "metadata": {},
   "outputs": [
    {
     "data": {
      "text/plain": [
       "<pymongo.results.InsertManyResult at 0x1ea2779f0c0>"
      ]
     },
     "execution_count": 4,
     "metadata": {},
     "output_type": "execute_result"
    }
   ],
   "source": [
    "#Inserts the book data\n",
    "db.books.insert_many([{\"book\": \"The Ranch\", \"author\": \"Danielle Steel\"},\n",
    "                                 {\"book\": \"The Firm\", \"author\": \"John Grisham\"},\n",
    "                                 {\"book\": \"The runaway jury\", \"author\": \"John Grisham\"},\n",
    "                                 {\"book\": \"Time to kill\", \"author\": \"John Grisham\"},\n",
    "                                 {\"book\": \"The testament\", \"author\": \"John Grisham\"},\n",
    "                                 {\"book\": \"Tell me your Dreams\", \"author\": \"Sidney Sheldon\"}\n",
    "                              ])"
   ]
  },
  {
   "cell_type": "code",
   "execution_count": 5,
   "metadata": {},
   "outputs": [
    {
     "name": "stdout",
     "output_type": "stream",
     "text": [
      "{'_id': ObjectId('60e689e492f8bbdd4233bd0f'), 'author': 'Sidney Sheldon', 'about': 'Tell Me Your Dreams', 'tags': ['MPD', 'Murder', 'Mystery']}\n",
      "{'_id': ObjectId('60ed329c4465542da14beb11'), 'book': 'The Ranch', 'author': 'Danielle Steel'}\n",
      "{'_id': ObjectId('60ed329c4465542da14beb12'), 'book': 'The Firm', 'author': 'John Grisham'}\n",
      "{'_id': ObjectId('60ed329c4465542da14beb13'), 'book': 'The runaway jury', 'author': 'John Grisham'}\n",
      "{'_id': ObjectId('60ed329c4465542da14beb14'), 'book': 'Time to kill', 'author': 'John Grisham'}\n",
      "{'_id': ObjectId('60ed329c4465542da14beb15'), 'book': 'The testament', 'author': 'John Grisham'}\n",
      "{'_id': ObjectId('60ed329c4465542da14beb16'), 'book': 'Tell me your Dreams', 'author': 'Sidney Sheldon'}\n"
     ]
    }
   ],
   "source": [
    "#Finds and list all of the books\n",
    "for book in books.find():\n",
    "  print(book)"
   ]
  },
  {
   "cell_type": "code",
   "execution_count": 6,
   "metadata": {},
   "outputs": [
    {
     "data": {
      "text/plain": [
       "{'_id': ObjectId('60ed329c4465542da14beb11'),\n",
       " 'book': 'The Ranch',\n",
       " 'author': 'Danielle Steel'}"
      ]
     },
     "execution_count": 6,
     "metadata": {},
     "output_type": "execute_result"
    }
   ],
   "source": [
    "#Selects all of the books by a single author\n",
    "books.find_one({'author':\"Danielle Steel\"})"
   ]
  },
  {
   "cell_type": "code",
   "execution_count": 7,
   "metadata": {},
   "outputs": [
    {
     "name": "stdout",
     "output_type": "stream",
     "text": [
      "{'_id': ObjectId('60e689e492f8bbdd4233bd0f'), 'author': 'Sidney Sheldon', 'about': 'Tell Me Your Dreams', 'tags': ['MPD', 'Murder', 'Mystery']}\n",
      "{'_id': ObjectId('60ed329c4465542da14beb16'), 'book': 'Tell me your Dreams', 'author': 'Sidney Sheldon'}\n"
     ]
    }
   ],
   "source": [
    "#Selects all of the books by a single author\n",
    "for book in books.find({'author':\"Sidney Sheldon\"}):\n",
    "    print(book)"
   ]
  },
  {
   "cell_type": "code",
   "execution_count": 8,
   "metadata": {},
   "outputs": [
    {
     "name": "stdout",
     "output_type": "stream",
     "text": [
      "The Firm\n",
      "The runaway jury\n",
      "Time to kill\n",
      "The testament\n"
     ]
    }
   ],
   "source": [
    "#Selects and lists all the books by a single author by just the title\n",
    "for book in books.find({'author':\"John Grisham\"}):\n",
    "    print(book['book'])"
   ]
  },
  {
   "cell_type": "code",
   "execution_count": 9,
   "metadata": {},
   "outputs": [
    {
     "name": "stdout",
     "output_type": "stream",
     "text": [
      "{'_id': ObjectId('60ed329c4465542da14beb11'), 'book': 'The Ranch', 'author': 'Danielle Steel'}\n",
      "{'_id': ObjectId('60ed329c4465542da14beb12'), 'book': 'The Firm', 'author': 'John Grisham'}\n",
      "{'_id': ObjectId('60ed329c4465542da14beb13'), 'book': 'The runaway jury', 'author': 'John Grisham'}\n",
      "{'_id': ObjectId('60ed329c4465542da14beb14'), 'book': 'Time to kill', 'author': 'John Grisham'}\n",
      "{'_id': ObjectId('60ed329c4465542da14beb15'), 'book': 'The testament', 'author': 'John Grisham'}\n",
      "{'_id': ObjectId('60e689e492f8bbdd4233bd0f'), 'author': 'Sidney Sheldon', 'about': 'Tell Me Your Dreams', 'tags': ['MPD', 'Murder', 'Mystery']}\n",
      "{'_id': ObjectId('60ed329c4465542da14beb16'), 'book': 'Tell me your Dreams', 'author': 'Sidney Sheldon'}\n"
     ]
    }
   ],
   "source": [
    "#Orders and lists all the books in ASCENDING order by the previous authors\n",
    "for book in books.find().sort([(\"author\", pymongo.ASCENDING)]):\n",
    "  print(book)"
   ]
  },
  {
   "cell_type": "code",
   "execution_count": 10,
   "metadata": {},
   "outputs": [],
   "source": [
    "#Groups and counts the number of books from each of the two authors and places the data in a pipeline.\n",
    "pipeline = [\n",
    "     {\"$group\": {\"_id\": \"$author\", \"count\": {\"$sum\": 1}}}]\n",
    "\n",
    "grp_books = db.books.aggregate(pipeline)"
   ]
  },
  {
   "cell_type": "code",
   "execution_count": 11,
   "metadata": {},
   "outputs": [
    {
     "name": "stdout",
     "output_type": "stream",
     "text": [
      "{'_id': 'Sidney Sheldon', 'count': 2}\n",
      "{'_id': 'John Grisham', 'count': 4}\n",
      "{'_id': 'Danielle Steel', 'count': 1}\n"
     ]
    }
   ],
   "source": [
    "#Prints the authors name and the number of the books in the collection\n",
    "for book in grp_books:\n",
    "  print(book)"
   ]
  }
 ],
 "metadata": {
  "kernelspec": {
   "display_name": "Python 3",
   "language": "python",
   "name": "python3"
  },
  "language_info": {
   "codemirror_mode": {
    "name": "ipython",
    "version": 3
   },
   "file_extension": ".py",
   "mimetype": "text/x-python",
   "name": "python",
   "nbconvert_exporter": "python",
   "pygments_lexer": "ipython3",
   "version": "3.8.5"
  }
 },
 "nbformat": 4,
 "nbformat_minor": 4
}
